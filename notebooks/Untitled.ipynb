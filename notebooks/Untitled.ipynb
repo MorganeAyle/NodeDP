{
 "cells": [
  {
   "cell_type": "code",
   "execution_count": null,
   "metadata": {},
   "outputs": [],
   "source": [
    "import os\n",
    "os.chdir('..')"
   ]
  },
  {
   "cell_type": "code",
   "execution_count": null,
   "metadata": {},
   "outputs": [],
   "source": [
    "from src.utils import load_data, define_additional_args, compute_hypergeometric\n",
    "from src.minibatch import Minibatch\n",
    "from src.trainer import Trainer\n",
    "from src.evaluator import Evaluator\n",
    "import torch\n",
    "import numpy as np\n",
    "import pdb\n",
    "from datetime import date, datetime\n",
    "import time"
   ]
  },
  {
   "cell_type": "code",
   "execution_count": null,
   "metadata": {},
   "outputs": [],
   "source": [
    "# data_path = './data/ppi'\n",
    "# num_subgraphs = 200\n",
    "# num_par_samplers = 10\n",
    "# use_cuda = True\n",
    "# sampler_args = {\n",
    "#     'method': 'rw',\n",
    "#     'num_root': 200,\n",
    "#     'depth': 1\n",
    "# }\n",
    "# num_iterations = 5000\n",
    "# model_args = {\n",
    "#     'arch': 'GraphSAGE',\n",
    "#     'hidden_channels': 512,\n",
    "#     'dropout': 0.1,\n",
    "#     'num_layers': 1\n",
    "# }\n",
    "# training_args = {\n",
    "#     'method': 'normal',\n",
    "#     'loss': 'sigmoid',\n",
    "#     'lr': 0.01,\n",
    "#     'clip_norm': 5\n",
    "# }\n",
    "# save_model_dir = f'/nfs/students/ayle/NodeDP/models/{str(datetime.now())}'\n",
    "# eval_every = 10"
   ]
  },
  {
   "cell_type": "code",
   "execution_count": null,
   "metadata": {},
   "outputs": [],
   "source": [
    "data_path = './data/ogbn-arxiv_undirected'\n",
    "num_subgraphs = 200\n",
    "num_par_samplers = 10\n",
    "use_cuda = True\n",
    "sampler_args = {\n",
    "    'method': 'drw',\n",
    "    'num_root': 300,\n",
    "    'depth': 2\n",
    "}\n",
    "num_iterations = 1000\n",
    "model_args = {\n",
    "    'arch': 'GCN',\n",
    "    'hidden_channels': 512,\n",
    "    'dropout': 0.1,\n",
    "    'num_layers': 2\n",
    "}\n",
    "training_args = {\n",
    "    'method': 'ours',\n",
    "    'loss': 'softmax',\n",
    "    'lr': 0.01,\n",
    "    \n",
    "    'alpha': 2,\n",
    "    'delta': 1e-4\n",
    "}\n",
    "save_model_dir = f'/nfs/students/ayle/NodeDP/models/{str(datetime.now())}'\n",
    "eval_every = 10"
   ]
  },
  {
   "cell_type": "code",
   "execution_count": null,
   "metadata": {},
   "outputs": [],
   "source": [
    "# data_path = './data/ogbn-arxiv_undirected'\n",
    "# num_subgraphs = 200\n",
    "# num_par_samplers = 10\n",
    "# use_cuda = True\n",
    "# sampler_args = {\n",
    "#     'method': 'nodes_max',\n",
    "#     'num_nodes': 1000,\n",
    "#     'max_degree': 7\n",
    "# }\n",
    "# num_iterations = 1000\n",
    "# model_args = {\n",
    "#     'arch': 'GCN',\n",
    "#     'hidden_channels': 512,\n",
    "#     'dropout': 0.1,\n",
    "#     'num_layers': 1\n",
    "# }\n",
    "# training_args = {\n",
    "#     'method': 'node_dp_max_degree',\n",
    "#     'loss': 'softmax',\n",
    "#     'lr': 0.01,\n",
    "    \n",
    "#     'alpha': 2,\n",
    "#     'delta': 1e-4\n",
    "# }\n",
    "# save_model_dir = f'/nfs/students/ayle/NodeDP/models/{str(datetime.now())}'\n",
    "# eval_every = 10"
   ]
  },
  {
   "cell_type": "code",
   "execution_count": null,
   "metadata": {},
   "outputs": [],
   "source": [
    "out = print"
   ]
  },
  {
   "cell_type": "code",
   "execution_count": null,
   "metadata": {},
   "outputs": [],
   "source": [
    "adj_full, adj_train, feats, class_arr, role = load_data(data_path, out)"
   ]
  },
  {
   "cell_type": "code",
   "execution_count": null,
   "metadata": {},
   "outputs": [],
   "source": [
    "num_subgraphs_per_sampler = define_additional_args(num_subgraphs, num_par_samplers, out)"
   ]
  },
  {
   "cell_type": "code",
   "execution_count": null,
   "metadata": {},
   "outputs": [],
   "source": [
    "minibatch = Minibatch(adj_full, adj_train, role, num_par_samplers, num_subgraphs_per_sampler, use_cuda, sampler_args)"
   ]
  },
  {
   "cell_type": "code",
   "execution_count": null,
   "metadata": {},
   "outputs": [],
   "source": [
    "trainer = Trainer(training_args, model_args, feats, class_arr, use_cuda, minibatch, out)\n",
    "evaluator = Evaluator(model_args, feats, class_arr, training_args['loss'])"
   ]
  },
  {
   "cell_type": "code",
   "execution_count": null,
   "metadata": {},
   "outputs": [],
   "source": [
    "if training_args['method'] == 'ours':\n",
    "    K = sampler_args['depth'] + 1                                    # number of affected nodes in one batch\n",
    "    m = sampler_args['num_root'] * (sampler_args['depth'] + 1)       # number of nodes sampled in one batch\n",
    "    C = trainer.C                                                    # max sensitivity\n",
    "    sigma = K\n",
    "    \n",
    "    total_gamma = 0\n",
    "    gho = compute_hypergeometric(len(minibatch.node_train), K, m)\n",
    "    \n",
    "elif training_args['method'] == 'node_dp_max_degree':\n",
    "    K = sampler_args['max_degree'] + 1          # number of affected nodes in one batch\n",
    "    m = sampler_args['num_nodes']               # number of nodes sampled in one batch\n",
    "    C = trainer.C                               # max sensitivity\n",
    "    sigma = 2 * K\n",
    "    \n",
    "    total_gamma = 0\n",
    "    gho = compute_hypergeometric(len(minibatch.node_train), K, m)"
   ]
  },
  {
   "cell_type": "code",
   "execution_count": null,
   "metadata": {
    "scrolled": false
   },
   "outputs": [],
   "source": [
    "t1 = time.time()\n",
    "for it in range(num_iterations):\n",
    "    if training_args['method'] == 'normal':\n",
    "        trainer.train_step(*minibatch.sample_one_batch(out))\n",
    "    elif training_args['method'] in ['ours', 'node_dp_max_degree']:\n",
    "        trainer.dp_train_step_fast(*minibatch.sample_one_batch(out), sigma=sigma)\n",
    "        \n",
    "        total_gamma += 1 / (training_args['alpha'] - 1) * np.log(sum(np.array([p * (np.exp(training_args['alpha'] * (training_args['alpha'] - 1) * 2 * (i * C) ** 2 / (sigma * C) ** 2))])\n",
    "                                                                           for i, p in enumerate(gho))[0])\n",
    "    \n",
    "    if it % eval_every == 0:\n",
    "        t2 = time.time()\n",
    "        evaluator.model.load_state_dict(trainer.model.state_dict())\n",
    "        preds, labels = evaluator.eval_step(*minibatch.sample_one_batch(out, mode='val'))\n",
    "        metrics = evaluator.calc_metrics(preds, labels)\n",
    "        \n",
    "        print_statement = f\"Iteration {it}:\"\n",
    "        for metric, val in metrics.items():\n",
    "            print_statement += f\"\\t {metric} = {val}\"\n",
    "        print_statement += f\"\\t Training Time = {t2-t1}\"\n",
    "        out(print_statement)\n",
    "        \n",
    "        if training_args['method'] in ['ours', 'node_dp_max_degree']:\n",
    "            out(\"RDP: (\" + str(training_args['alpha']) + \",\" + str(total_gamma) + \")\")\n",
    "            eps = total_gamma + np.log(1 / training_args['delta']) / (training_args['alpha'] - 1)\n",
    "            out(\"DP: (\" + str(eps) + \",\" + str(training_args['delta']) + \")\")\n",
    "        \n",
    "        t1 = time.time()"
   ]
  },
  {
   "cell_type": "code",
   "execution_count": null,
   "metadata": {},
   "outputs": [],
   "source": [
    "RDP: (2,0.4951858588028699)\n",
    "DP: (9.705526230779052,0.0001)\n",
    "Iteration 340:\t F1 Micro = 0.3025575311645595\t F1 Macro = 0.043780989711908525\t Accuracy = 0.3025575311645595\t Training Time = 1.7059597969055176\n",
    "RDP: (2,0.5101461566518992)\n",
    "DP: (9.720486528628081,0.0001)"
   ]
  }
 ],
 "metadata": {
  "kernelspec": {
   "display_name": "Python 3 (ipykernel)",
   "language": "python",
   "name": "python3"
  },
  "language_info": {
   "codemirror_mode": {
    "name": "ipython",
    "version": 3
   },
   "file_extension": ".py",
   "mimetype": "text/x-python",
   "name": "python",
   "nbconvert_exporter": "python",
   "pygments_lexer": "ipython3",
   "version": "3.10.4"
  }
 },
 "nbformat": 4,
 "nbformat_minor": 4
}
